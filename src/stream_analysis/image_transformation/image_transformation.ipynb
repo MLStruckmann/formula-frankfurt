{
 "cells": [
  {
   "cell_type": "code",
   "execution_count": null,
   "metadata": {},
   "outputs": [],
   "source": [
    "from IPython.display import Image\n",
    "import numpy as np\n",
    "import cv2\n",
    "import os\n",
    "import PIL\n",
    "import matplotlib.pyplot as plt"
   ]
  },
  {
   "cell_type": "code",
   "execution_count": null,
   "metadata": {},
   "outputs": [],
   "source": [
    "filepath = os.getcwd() + \"/sample-pictures/2-high.jpg\"\n",
    "#filepath = os.getcwd() + \"/sample-pictures/0-top.jpg\""
   ]
  },
  {
   "cell_type": "code",
   "execution_count": null,
   "metadata": {},
   "outputs": [],
   "source": [
    "image = PIL.Image.open(filepath)\n",
    "width, height = image.size\n",
    "print(width, height)"
   ]
  },
  {
   "cell_type": "markdown",
   "metadata": {},
   "source": [
    "### OpenCV implementation"
   ]
  },
  {
   "cell_type": "code",
   "execution_count": null,
   "metadata": {},
   "outputs": [],
   "source": [
    "def draw_circle(event,x,y,flags,param):\n",
    "    global mouseX,mouseY\n",
    "    if event == cv2.EVENT_LBUTTONDBLCLK:\n",
    "        cv2.circle(img,(x,y),20,(255,0,0),-1)\n",
    "        mouseX,mouseY = x,y\n",
    "        \n",
    "img = cv2.imread(filepath)\n",
    "cv2.namedWindow(\"image\",cv2.WINDOW_NORMAL)\n",
    "cv2.resizeWindow(\"image\", 600,600)\n",
    "cv2.setMouseCallback(\"image\",draw_circle)\n",
    "\n",
    "while(1):\n",
    "    cv2.imshow('image',img)\n",
    "    k = cv2.waitKey(20) & 0xFF\n",
    "    if k == 27:\n",
    "        break\n",
    "    elif k == ord(\"p\"):\n",
    "        print(mouseX,mouseY)\n",
    "    elif k == ord(\"b\"):\n",
    "        pos_blue = [mouseX,mouseY]\n",
    "    elif k == ord(\"r\"):\n",
    "        pos_red = [mouseX,mouseY]\n",
    "    elif k == ord(\"y\"):\n",
    "        pos_yellow = [mouseX,mouseY]\n",
    "    elif k == ord(\"q\"):\n",
    "        cv2.destroyAllWindows()\n",
    "        break"
   ]
  },
  {
   "cell_type": "code",
   "execution_count": null,
   "metadata": {},
   "outputs": [],
   "source": [
    "print(pos_blue)\n",
    "print(pos_red)\n",
    "print(pos_yellow)"
   ]
  },
  {
   "cell_type": "code",
   "execution_count": null,
   "metadata": {},
   "outputs": [],
   "source": [
    "# Define transformation points\n",
    "\n",
    "# Example\n",
    "# pts1 = np.float32([[50,50],[200,50],[50,200]])\n",
    "# pts2 = np.float32([[10,100],[200,50],[100,250]])\n",
    "\n",
    "# Carrera points\n",
    "#pts1 = np.float32([[1473, 1714],[2521, 1848],[3257, 1423]])\n",
    "pts1 = np.float32([pos_blue,pos_red,pos_yellow])\n",
    "pts2 = np.float32([[1001, 1173],[1750, 1616],[3031, 1236]])"
   ]
  },
  {
   "cell_type": "code",
   "execution_count": null,
   "metadata": {},
   "outputs": [],
   "source": [
    "# Generate transformed image\n",
    "img = cv2.imread(filepath)\n",
    "img = cv2.cvtColor(img, cv2.COLOR_BGR2RGB) # set CV2 color scale to RGB\n",
    "rows,cols,ch = img.shape\n",
    "\n",
    "M = cv2.getAffineTransform(pts1,pts2)\n",
    "\n",
    "dst = cv2.warpAffine(img,M,(cols,rows))"
   ]
  },
  {
   "cell_type": "code",
   "execution_count": null,
   "metadata": {},
   "outputs": [],
   "source": [
    "plt.rcParams[\"figure.figsize\"]= 10,10\n",
    "\n",
    "plt.imshow(img)\n",
    "plt.title('Input')\n",
    "plt.show()"
   ]
  },
  {
   "cell_type": "code",
   "execution_count": null,
   "metadata": {},
   "outputs": [],
   "source": [
    "plt.imshow(dst)\n",
    "plt.title('Output')\n",
    "plt.show()"
   ]
  }
 ],
 "metadata": {
  "kernelspec": {
   "display_name": "Python 3",
   "language": "python",
   "name": "python3"
  },
  "language_info": {
   "codemirror_mode": {
    "name": "ipython",
    "version": 3
   },
   "file_extension": ".py",
   "mimetype": "text/x-python",
   "name": "python",
   "nbconvert_exporter": "python",
   "pygments_lexer": "ipython3",
   "version": "3.7.4"
  }
 },
 "nbformat": 4,
 "nbformat_minor": 4
}
